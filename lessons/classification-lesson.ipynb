{
 "cells": [
  {
   "cell_type": "markdown",
   "metadata": {},
   "source": [
    "# Lesson 1: Classification"
   ]
  },
  {
   "cell_type": "markdown",
   "metadata": {},
   "source": [
    "## Review"
   ]
  },
  {
   "cell_type": "markdown",
   "metadata": {},
   "source": [
    "**Question:** What is classification? \n",
    "\n",
    "**Question:** Is classification a form of supervised or unsupervised learning? Why? "
   ]
  },
  {
   "cell_type": "markdown",
   "metadata": {},
   "source": [
    "Let's review the example we saw last time. The code below reads our data points from a file and then creates a scatterplot."
   ]
  },
  {
   "cell_type": "code",
   "execution_count": null,
   "metadata": {},
   "outputs": [],
   "source": [
    "%matplotlib inline\n",
    "# import necessary packages\n",
    "import matplotlib.pyplot as plt \n",
    "import pandas\n",
    "import numpy as np\n",
    "\n",
    "# Read the data, and put it into a variable. \n",
    "data = pandas.read_csv(\"../assets/classification-synthetic.csv\") \n",
    "\n",
    "# show the first five data points\n",
    "# in the data, \"r\" stands for red, and \"b\" stands for blue\n",
    "print(data.head()) "
   ]
  },
  {
   "cell_type": "code",
   "execution_count": null,
   "metadata": {},
   "outputs": [],
   "source": [
    "# Create a scatter plot. \n",
    "# \"c\" stands for color. We color our points by class.\n",
    "plt.scatter(x=data[\"x\"], y=data[\"y\"], c=data[\"class\"]) "
   ]
  },
  {
   "cell_type": "markdown",
   "metadata": {},
   "source": [
    "The red points are in group Red, and the blue points are in group Blue. The two classes have different characteristics; the Red class is in the top left corner of the plot, and the Blue class is in the bottom right.\n",
    "\n",
    "If we are given a new point, we can classify it by how similar it is to the other data points. For example, the new point shown below belongs in the Red class."
   ]
  },
  {
   "cell_type": "code",
   "execution_count": null,
   "metadata": {},
   "outputs": [],
   "source": [
    "# Create a new point at (3,7) and color it black.\n",
    "new_point = pandas.DataFrame({\"x\":[3], \"y\":[7], \"class\":[\"k\"]}) \n",
    "# Add the new point to the dataset. \n",
    "new_data = data.append(new_point) \n",
    "plt.scatter(x=new_data[\"x\"], y=new_data[\"y\"], c=new_data[\"class\"]) "
   ]
  },
  {
   "cell_type": "markdown",
   "metadata": {},
   "source": [
    "And the point below belongs to the Blue class since it is closer to the Blue points."
   ]
  },
  {
   "cell_type": "code",
   "execution_count": null,
   "metadata": {},
   "outputs": [],
   "source": [
    "# Create and add a new point to the dataset. \n",
    "new_point = pandas.DataFrame({\"x\":[6], \"y\":[5], \"class\":[\"k\"]}) \n",
    "new_data = data.append(new_point) \n",
    "plt.scatter(x=new_data[\"x\"], y=new_data[\"y\"], c=new_data[\"class\"]) "
   ]
  },
  {
   "cell_type": "markdown",
   "metadata": {},
   "source": [
    "*Support vector machines* draw lines between classes. We can draw a line between the Red and Blue groups. New points on one side of the line belong to the Red group, and points on the other side of the line belong to the Blue group."
   ]
  },
  {
   "cell_type": "code",
   "execution_count": null,
   "metadata": {},
   "outputs": [],
   "source": [
    "# Create an equidistant line between the classes\n",
    "plt.scatter(x=data[\"x\"], y=data[\"y\"], c=data[\"class\"]) \n",
    "x = np.linspace(0, 10, 1000)\n",
    "plt.plot(x, 1.5*x-3, color='black')\n",
    "plt.xlim(0,11)\n",
    "plt.ylim(0,11)"
   ]
  },
  {
   "cell_type": "markdown",
   "metadata": {},
   "source": [
    "## Classification for the World Happiness Dataset"
   ]
  },
  {
   "cell_type": "markdown",
   "metadata": {},
   "source": [
    "We're going to take the World Happiness Dataset we examined last time and apply classification to it. \n",
    "\n",
    "Today, we are going to classify countries into three classes: **low, medium, and high happiness**. Low happiness is defined as a happiness score below A, while medium happiness is between A and B. High happiness is a score above B. "
   ]
  },
  {
   "cell_type": "code",
   "execution_count": null,
   "metadata": {},
   "outputs": [],
   "source": [
    "import matplotlib.pyplot as plt\n",
    "import matplotlib.image as mpimg\n",
    "from matplotlib import rcParams\n",
    "from PIL import Image\n",
    "import pandas as pd\n",
    "from sklearn.preprocessing import StandardScaler\n",
    "from sklearn import svm\n",
    "\n",
    "%matplotlib inline\n",
    "# figure size \n",
    "rcParams['figure.figsize'] = 20,20"
   ]
  },
  {
   "cell_type": "code",
   "execution_count": null,
   "metadata": {},
   "outputs": [],
   "source": [
    "# Load World Happiness Data\n",
    "df = pd.read_csv(\"../assets/happinessDataset/2015.csv\")"
   ]
  },
  {
   "cell_type": "code",
   "execution_count": null,
   "metadata": {},
   "outputs": [],
   "source": [
    "df.columns"
   ]
  },
  {
   "cell_type": "code",
   "execution_count": null,
   "metadata": {},
   "outputs": [],
   "source": [
    "classification_data = df[[\"Happiness Score\", 'Economy (GDP per Capita)', 'Family',\n",
    "       'Health (Life Expectancy)', 'Freedom', 'Trust (Government Corruption)',\n",
    "       'Generosity', 'Dystopia Residual']]\n",
    "classification_data"
   ]
  },
  {
   "cell_type": "code",
   "execution_count": null,
   "metadata": {},
   "outputs": [],
   "source": [
    "# normalize the data\n",
    "ss = StandardScaler()\n",
    "transformed_data = ss.fit_transform(classification_data)\n",
    "transformed_df = pd.DataFrame(transformed_data, index=classification_data.index, columns=classification_data.columns)\n",
    "transformed_df"
   ]
  },
  {
   "cell_type": "code",
   "execution_count": null,
   "metadata": {},
   "outputs": [],
   "source": [
    "# add a new column with the class label\n",
    "\n",
    "# silence warning\n",
    "import warnings\n",
    "warnings.filterwarnings('ignore')\n",
    "\n",
    "# set scores >6 to high, <4 to low, and everything else to medium\n",
    "# 1 is low, 2 is medium, 3 is high\n",
    "classification_data[\"Class\"] = 2\n",
    "classification_data[\"Class\"].loc[classification_data[\"Happiness Score\"] > 6] = 3\n",
    "classification_data[\"Class\"].loc[classification_data[\"Happiness Score\"] < 4] = 1\n",
    "\n",
    "classification_data"
   ]
  },
  {
   "cell_type": "code",
   "execution_count": null,
   "metadata": {},
   "outputs": [],
   "source": [
    "# create an SVM\n",
    "clf = svm.LinearSVC()\n",
    "# apply the SVM to the data\n",
    "clf.fit(transformed_df[[\"Happiness Score\", 'Economy (GDP per Capita)', 'Family',\n",
    "       'Health (Life Expectancy)', 'Freedom', 'Trust (Government Corruption)',\n",
    "       'Generosity', 'Dystopia Residual']], \n",
    "        classification_data[\"Class\"])"
   ]
  },
  {
   "cell_type": "code",
   "execution_count": null,
   "metadata": {},
   "outputs": [],
   "source": [
    "# Plot the SVM\n",
    "xx, yy = np.meshgrid(np.arange(transformed_df[\"Happiness Score\"].min(), \n",
    "                               transformed_df[\"Happiness Score\"].max(), 0.02),\n",
    "                     np.arange(transformed_df[\"Economy (GDP per Capita)\"].min(), \n",
    "                               transformed_df[\"Economy (GDP per Capita)\"].max(), 0.02)\n",
    "                    )\n",
    "length = xx.ravel().shape[0]\n",
    "\n",
    "Z = clf.predict(np.c_[xx.ravel(), yy.ravel(), [0]*length, [0]*length, [0]*length, [0]*length, [0]*length, [0]*length])\n",
    "\n",
    "Z = Z.reshape(xx.shape)\n",
    "\n",
    "plt.contourf(xx, yy, Z, cmap=plt.cm.coolwarm, alpha=0.8)\n",
    "\n",
    "plt.scatter(transformed_df['Happiness Score'],\n",
    "            transformed_df['Economy (GDP per Capita)'], \n",
    "            c=classification_data['Class'], \n",
    "            edgecolors='k',\n",
    "            cmap=plt.cm.coolwarm)\n",
    "\n",
    "plt.title('Support Vector Machine')\n",
    "plt.xlabel('Happiness Score - Normalized')\n",
    "plt.ylabel('Economy (GDP per Capita) - Normalized')"
   ]
  },
  {
   "cell_type": "markdown",
   "metadata": {},
   "source": [
    "**Question**: Why do you think so many \"low\" and \"high\" happiness countries get misclassified as \"medium\" happiness? "
   ]
  },
  {
   "cell_type": "markdown",
   "metadata": {},
   "source": [
    "### Activity\n",
    "Change the code in the cell above to plot a variable other than \"Economy (GDP per Capita).\" How is it different from the \"Economy (GDP per Capita)\" plot?"
   ]
  }
 ],
 "metadata": {
  "kernelspec": {
   "display_name": "Python 3",
   "language": "python",
   "name": "python3"
  },
  "language_info": {
   "codemirror_mode": {
    "name": "ipython",
    "version": 3
   },
   "file_extension": ".py",
   "mimetype": "text/x-python",
   "name": "python",
   "nbconvert_exporter": "python",
   "pygments_lexer": "ipython3",
   "version": "3.6.9"
  }
 },
 "nbformat": 4,
 "nbformat_minor": 2
}
