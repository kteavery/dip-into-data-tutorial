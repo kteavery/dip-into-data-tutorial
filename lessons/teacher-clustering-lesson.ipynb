{
 "cells": [
  {
   "cell_type": "markdown",
   "metadata": {},
   "source": [
    "# Lesson 3: Clustering \n",
    "\n",
    "Clustering is a machine learning task in which data is categorized into groups where items in each group are similar. "
   ]
  },
  {
   "cell_type": "markdown",
   "metadata": {},
   "source": [
    "In below figures, we can see the clusters of handwritten digits. Figure 1 (a) shows the single cluster of handwritten digit 8 and Figure 1 (b) shows the clusters of handwritten digits 0 - 9. "
   ]
  },
  {
   "cell_type": "code",
   "execution_count": null,
   "metadata": {},
   "outputs": [],
   "source": [
    "import matplotlib.pyplot as plt\n",
    "import matplotlib.image as mpimg\n",
    "from matplotlib import rcParams\n",
    "from PIL import Image\n",
    "\n",
    "%matplotlib inline\n",
    "\n",
    "# figure size in inches optional\n",
    "rcParams['figure.figsize'] = 20,20\n",
    "\n",
    "# read images\n",
    "img_A = Image.open('../assets/mnist_8.png')\n",
    "img_B = Image.open('../assets/mnist_all.png') \n",
    "img_B = img_B.resize(img_A.size)\n",
    "# display images\n",
    "fig, ax = plt.subplots(1,2)\n",
    "\n",
    "\n",
    "ax[0].imshow(img_A);\n",
    "ax[0].axis('off')\n",
    "ax[0].set_title(\"Figure 1(a): Single cluster of handwritten digit 8\", fontsize = 20)\n",
    "ax[1].imshow(img_B);\n",
    "ax[1].axis('off')\n",
    "a = ax[1].set_title(\"Figure 1(b): Clusters of handwritten digits 0 - 9\", fontsize = 20)\n"
   ]
  },
  {
   "cell_type": "markdown",
   "metadata": {},
   "source": [
    "# Activity 1\n",
    "\n",
    "Question 1 - In Figure 1 (a), Why are there images corresponding to digit '3' are part of cluster '8'?\n",
    "\n",
    "\n",
    "Question 2 - In Figure 1 (b), Why distance between clusters of 4 and 7 is less than disance between cluster of 7 and 0?\n",
    "\n",
    "\n",
    "\n"
   ]
  },
  {
   "cell_type": "markdown",
   "metadata": {},
   "source": [
    "# World Happiness Dataset\n",
    "\n",
    "\n",
    "World happiness dataset consists of dataset of 155 countries which are ranked by their happiness levels. The scores are based on answers to the main life evaluation question asked in a poll. The columns following the happiness score estimate the extent to which each of six factors – economic production, social support, life expectancy, freedom, absence of corruption, and generosity – contribute to making life evaluations higher in each country than they are in Dystopia, a hypothetical country that has values equal to the world’s lowest national averages for each of the six factors. These scores explain why some countries rank higher than others. \n",
    "\n",
    "\n",
    "In this lesson, we will do following tasks\n",
    "- Load World Happiness Data. \n",
    "- Observe the available columns and their data types.\n",
    "- Visualize the dataset to understand how different countries rank w.r.t. each other.\n",
    "- Learn about K-Means clustering algorithm which is used to cluster data into similar groups. \n",
    "- Use K-Means Clustering to form the clusters of countries with high, medium and low happiness scores. \n",
    "\n"
   ]
  },
  {
   "cell_type": "code",
   "execution_count": null,
   "metadata": {},
   "outputs": [],
   "source": [
    "# Load World Happiness Data\n",
    "import pandas as pd\n",
    "df = pd.read_csv(\"../assets/happinessDataset/2015.csv\")\n"
   ]
  },
  {
   "cell_type": "code",
   "execution_count": null,
   "metadata": {},
   "outputs": [],
   "source": [
    "# View first five rows of the dataset\n",
    "df.head()"
   ]
  },
  {
   "cell_type": "code",
   "execution_count": null,
   "metadata": {},
   "outputs": [],
   "source": [
    "# Observe the statistics of Columns\n",
    "df.describe()"
   ]
  },
  {
   "cell_type": "code",
   "execution_count": null,
   "metadata": {},
   "outputs": [],
   "source": [
    "# Observe the data types of columns\n",
    "df.dtypes"
   ]
  },
  {
   "cell_type": "code",
   "execution_count": null,
   "metadata": {},
   "outputs": [],
   "source": [
    "# Visualize the distribution of the happiness scores\n",
    "plt.figure(figsize=(10,6))\n",
    "a=10\n",
    "plt.hist(df[\"Happiness Score\"],a,label='2015',alpha=0.3,color='red')\n",
    "plt.ylabel('No. of countries',size=13)\n",
    "plt.legend(loc='upper right')\n",
    "a = plt.title(\"Distribution of Happiness scores\",size=16)\n"
   ]
  },
  {
   "cell_type": "markdown",
   "metadata": {},
   "source": [
    "# Questions related to distribution of the happiness score \n",
    "\n",
    "Question 1 - How many countries have happiness score of 7?\n",
    "- Less than 5\n",
    "- Less than 15\n",
    "- 10 - 15\n",
    "- Greater than 20"
   ]
  },
  {
   "cell_type": "code",
   "execution_count": null,
   "metadata": {},
   "outputs": [],
   "source": [
    "reg = pd.DataFrame(df.groupby(['Region'])[\"Happiness Score\"].mean())\n",
    "plt.figure(figsize=(10,7))\n",
    "plt.title('Happiness Scores across different regions')\n",
    "sns.barplot(x='Happiness Score',y=reg.index,data=reg,palette='mako')"
   ]
  },
  {
   "cell_type": "markdown",
   "metadata": {},
   "source": [
    "# Questions related to happiness score across different regions \n",
    "\n",
    "Question 1 - Which region has highest score?\n",
    "- Western Europe\n",
    "- Southern Asia\n",
    "- North America\n",
    "- Middle East and Northern Africa"
   ]
  },
  {
   "cell_type": "code",
   "execution_count": null,
   "metadata": {},
   "outputs": [],
   "source": [
    "# Correlation between happiness score and economy, family, health. \n",
    "import seaborn as sns\n",
    "df_copy = df.copy()\n",
    "df_copy.drop(['Country', 'Region', 'Happiness Rank', 'Standard Error', 'Generosity', 'Dystopia Residual', 'Trust (Government Corruption)'], axis=1,inplace=True)\n",
    "c2 = df_copy.corr(method = \"pearson\")\n",
    "plt.figure(figsize=(10,6))\n",
    "sns.heatmap(c2,annot=True)"
   ]
  },
  {
   "cell_type": "markdown",
   "metadata": {},
   "source": [
    "# Questions related to distribution of the happiness score \n",
    "\n",
    "Question 1 - Which factor is a good predictor for happiness score?\n",
    "- Economy(GDP per Capita)\n",
    "- Family\n",
    "- Health (Life Expectancy)\n",
    "- Freedom"
   ]
  },
  {
   "cell_type": "code",
   "execution_count": null,
   "metadata": {},
   "outputs": [],
   "source": [
    "df.columns"
   ]
  },
  {
   "cell_type": "code",
   "execution_count": null,
   "metadata": {},
   "outputs": [],
   "source": [
    "# K-Means Clustering\n",
    "from sklearn.preprocessing import StandardScaler\n",
    "clustering_data = df[[\"Happiness Score\", 'Economy (GDP per Capita)', 'Family',\n",
    "       'Health (Life Expectancy)', 'Freedom', 'Trust (Government Corruption)',\n",
    "       'Generosity', 'Dystopia Residual']]\n",
    "ss = StandardScaler()\n",
    "ss.fit_transform(clustering_data)\n",
    "\n"
   ]
  },
  {
   "cell_type": "code",
   "execution_count": null,
   "metadata": {},
   "outputs": [],
   "source": [
    "# K-Means Clustering on World Happiness Data \n",
    "from sklearn.cluster import KMeans\n",
    "def doKmeans(X, nclust=2):\n",
    "    model = KMeans(nclust)\n",
    "    model.fit(X)\n",
    "    clust_labels = model.predict(X)\n",
    "    cent = model.cluster_centers_\n",
    "    return (clust_labels, cent)\n",
    "\n",
    "clust_labels, cent = doKmeans(clustering_data, 3)\n",
    "kmeans = pd.DataFrame(clust_labels)\n",
    "clustering_data.insert((clustering_data.shape[1]),'kmeans',kmeans)"
   ]
  },
  {
   "cell_type": "code",
   "execution_count": null,
   "metadata": {},
   "outputs": [],
   "source": [
    "#Plot the clusters obtained using k means\n",
    "fig = plt.figure(figsize= (10,8))\n",
    "ax = fig.add_subplot(111)\n",
    "scatter = ax.scatter(clustering_data['Happiness Score'],clustering_data['Economy (GDP per Capita)'],\n",
    "                     c=kmeans[0],s=50)\n",
    "ax.set_title('K-Means Clustering')\n",
    "ax.set_xlabel('Happiness Score')\n",
    "ax.set_ylabel('Economy (GDP per Capita)')\n",
    "cbar = plt.colorbar(scatter)\n",
    "cbar.set_label(\"Cluster Group\")"
   ]
  },
  {
   "cell_type": "markdown",
   "metadata": {},
   "source": [
    "# Questions related to Clustering\n",
    "\n",
    "Question 1: Which cluster represents high happiness score?  1, 2 or 3\n",
    "\n",
    "# Activity \n",
    "Change number of clusters to three and generate clustering graphs again. \n",
    "\n"
   ]
  },
  {
   "cell_type": "code",
   "execution_count": null,
   "metadata": {},
   "outputs": [],
   "source": [
    "wh1 = clustering_data\n",
    "if 'Country' not in wh1.columns:\n",
    "    wh1.insert(0,'Country',wh.iloc[:,0])\n",
    "data = [dict(type='choropleth',\n",
    "             locations = wh1['Country'],\n",
    "             locationmode = 'country names',\n",
    "             z = wh1['kmeans'],\n",
    "             text = wh1['Country'],\n",
    "             colorbar = {'title':'Cluster Group'})]\n",
    "layout = dict(title='Clustering of Countries based on K-Means',\n",
    "              geo=dict(showframe = False,\n",
    "                       projection = {'type':'mercator'}))\n",
    "map1 = go.Figure(data = data, layout=layout)\n",
    "iplot(map1)"
   ]
  },
  {
   "cell_type": "code",
   "execution_count": null,
   "metadata": {},
   "outputs": [],
   "source": []
  }
 ],
 "metadata": {
  "kernelspec": {
   "display_name": "Python 3",
   "language": "python",
   "name": "python3"
  },
  "language_info": {
   "codemirror_mode": {
    "name": "ipython",
    "version": 3
   },
   "file_extension": ".py",
   "mimetype": "text/x-python",
   "name": "python",
   "nbconvert_exporter": "python",
   "pygments_lexer": "ipython3",
   "version": "3.6.9"
  }
 },
 "nbformat": 4,
 "nbformat_minor": 2
}
