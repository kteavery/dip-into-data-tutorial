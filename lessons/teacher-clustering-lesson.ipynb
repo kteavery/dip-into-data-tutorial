{
 "cells": [
  {
   "cell_type": "markdown",
   "metadata": {},
   "source": [
    "# Lesson 3: Clustering \n"
   ]
  },
  {
   "cell_type": "markdown",
   "metadata": {},
   "source": [
    "### Review\n",
    "\n",
    "**Question** What is clustering?\n",
    "\n",
    "**Answer** Clustering is a machine learning task in which data is categorized into groups where items in each group are similar.\n",
    "\n",
    "**Question** Do we have correct labels available for clustering?\n",
    "\n",
    "**Answer** No, we do not have labels available for clustering data and our goal is to just group datapoints based on their similarity without having access to correct group numbers for each datapoint. "
   ]
  },
  {
   "cell_type": "markdown",
   "metadata": {},
   "source": [
    "Let's review the example we saw last time. The code below reads our data points from a file and then creates a scatterplot."
   ]
  },
  {
   "cell_type": "code",
   "execution_count": null,
   "metadata": {},
   "outputs": [],
   "source": [
    "%matplotlib inline\n",
    "# import necessary packages\n",
    "import matplotlib.pyplot as plt \n",
    "import pandas\n",
    "import numpy as np\n",
    "\n",
    "# Read the data, and put it into a variable. \n",
    "data = pandas.read_csv(\"../assets/clustering-synthetic.csv\") \n",
    "\n",
    "# show the first five data points\n",
    "# in the data, \"r\" stands for red, and \"b\" stands for blue\n",
    "print(data.head()) "
   ]
  },
  {
   "cell_type": "code",
   "execution_count": null,
   "metadata": {},
   "outputs": [],
   "source": [
    "# Create a scatter plot\n",
    "plt.scatter(x=data[\"x\"], y=data[\"y\"])\n",
    "# Function to draw circle around the points.\n",
    "def encircle2(x,y, l, ax=None, **kw):\n",
    "    if not ax: ax=plt.gca()\n",
    "    p = np.c_[x,y]\n",
    "    mean = np.mean(p, axis=0)\n",
    "    d = p-mean\n",
    "    r = np.max(np.sqrt(d[:,0]**2+d[:,1]**2 ))\n",
    "    circ = plt.Circle(mean, radius=1.25*r,**kw)\n",
    "    label = ax.annotate(l, xy= mean, fontsize= 15)\n",
    "    xmean, ymean = mean\n",
    "    plt.scatter(xmean, ymean, c='red')\n",
    "    ax.add_patch(circ)\n",
    "\n",
    "# Logic to define cluster for synthetic data\n",
    "idx1 = np.where(data[\"x\"] > 5)\n",
    "idx2 = np.where(data[\"x\"] < 5)\n",
    "x = np.array(data[\"x\"])\n",
    "y = np.array(data[\"y\"])\n",
    "\n",
    "# plot the clusters\n",
    "plt.scatter(x, y)\n",
    "encircle2(x[idx1], y[idx1], \"A\", ec=\"k\", fc=\"gold\", alpha=0.2)\n",
    "encircle2(x[idx2], y[idx2], \"B\", ec=\"k\", fc=\"blue\", alpha=0.2)\n",
    "plt.gca().relim()\n",
    "plt.gca().autoscale_view()\n",
    "plt.show()"
   ]
  },
  {
   "cell_type": "markdown",
   "metadata": {},
   "source": [
    "### K-Means Clustering\n",
    "\n",
    "K-means clustering is commonly used method to find the clusters within data. The method accepts an argument **k** which specifies how many clusters we want to find in data. \n",
    "\n",
    "The method returns the centroid (center) of the K clusters. That's why the name of the method is K-Means. \n",
    "\n",
    "K-means find the minimum distance of each datapoint from each of the centroids. Each point is assigned to the cluster whose centroid is closest to that point.\n"
   ]
  },
  {
   "cell_type": "code",
   "execution_count": null,
   "metadata": {},
   "outputs": [],
   "source": [
    "# plot the clusters\n",
    "plt.scatter(x, y)\n",
    "encircle2(x[idx1], y[idx1], \"A\", ec=\"k\", fc=\"gold\", alpha=0.2)\n",
    "encircle2(x[idx2], y[idx2], \"B\", ec=\"k\", fc=\"blue\", alpha=0.2)\n",
    "plt.scatter(4.9, 11, marker = 'x', c = \"black\")\n",
    "plt.gca().relim()\n",
    "plt.gca().autoscale_view()\n",
    "plt.show()"
   ]
  },
  {
   "cell_type": "markdown",
   "metadata": {},
   "source": [
    "### Activity 1\n",
    "\n",
    "Let's suppose there are two clusters and their centroids are point A and B as shown above. \n",
    "\n",
    "**Question** - Which centroid is closest to the new point marked as 'x' below. Which cluster this new point belongs to?\n",
    "\n",
    "**Answer** - Centroid B is closest to the new point. Point will belong to blue cluster."
   ]
  },
  {
   "cell_type": "markdown",
   "metadata": {},
   "source": [
    "### Clustering example : Handwritten Digits\n",
    "In below figures, we can see the clusters of handwritten digits. Figure 1 (a) shows the single cluster of handwritten digit 8 and Figure 1 (b) shows the clusters of handwritten digits 0 - 9. "
   ]
  },
  {
   "cell_type": "code",
   "execution_count": null,
   "metadata": {},
   "outputs": [],
   "source": [
    "import matplotlib.pyplot as plt\n",
    "import matplotlib.image as mpimg\n",
    "from matplotlib import rcParams\n",
    "from PIL import Image\n",
    "\n",
    "%matplotlib inline\n",
    "\n",
    "# figure size in inches optional\n",
    "rcParams['figure.figsize'] = 20,20\n",
    "\n",
    "# read images\n",
    "img_A = Image.open('../assets/mnist_8.png')\n",
    "img_B = Image.open('../assets/mnist_all.png') \n",
    "img_B = img_B.resize(img_A.size)\n",
    "# display images\n",
    "fig, ax = plt.subplots(1,2)\n",
    "\n",
    "\n",
    "ax[0].imshow(img_A);\n",
    "ax[0].axis('off')\n",
    "ax[0].set_title(\"Figure 1(a): Single cluster of handwritten digit 8\", fontsize = 20)\n",
    "ax[1].imshow(img_B);\n",
    "ax[1].axis('off')\n",
    "a = ax[1].set_title(\"Figure 1(b): Clusters of handwritten digits 0 - 9\", fontsize = 20)\n"
   ]
  },
  {
   "cell_type": "markdown",
   "metadata": {},
   "source": [
    "### Activity 2\n",
    "\n",
    "**Question**: In Figure 1 (a), Why are there images corresponding to digit '3' are part of cluster '8'?\n",
    "\n",
    "**Answer:** As shape of digits 3 and 8 are very similar, some of the 3 shaped digits are include in cluster containing digits '8'\n",
    "\n",
    "**Question:** In Figure 1 (b), Why distance between clusters of 4 and 7 is less than disance between cluster of 7 and 0?\n",
    "\n",
    "**Answer:** As shapes of digit 7 is more similar to digit 4, rather than digit 0, clusters of 4 and 7 are closer than clusers of 7 and 0.\n"
   ]
  },
  {
   "cell_type": "markdown",
   "metadata": {},
   "source": [
    "# Clustering for World Happiness Dataset"
   ]
  },
  {
   "cell_type": "code",
   "execution_count": null,
   "metadata": {},
   "outputs": [],
   "source": [
    "# Load World Happiness Data\n",
    "import pandas as pd\n",
    "df = pd.read_csv(\"../assets/happinessDataset/2015.csv\")\n",
    "\n",
    "# View first five rows of the dataset\n",
    "df.head()\n"
   ]
  },
  {
   "cell_type": "markdown",
   "metadata": {},
   "source": [
    "# Data Normalization For Clustering\n",
    "\n",
    "### Importance of data normalization\n",
    "For clustering, it is recommended to scale the dataset to values between 0 and 1, so that all the columns have values in same range. For example, if a medical dataset contains height of people ranging between 100-200 cm and blood haemoglobin levels ranging between 4-10 g/dL. \n",
    "\n",
    "If we want to cluster people in groups based on height and haemoglobin levels using original data (without scaling values between 0 and 1), then height will have more say in distance calculation for clustering than haemglobin. This is because scale of height is higher. In that case, people having similar heights will be grouped in the same cluster although their haemoglobin levels are quite different, which will be ignored due to small values. "
   ]
  },
  {
   "cell_type": "code",
   "execution_count": null,
   "metadata": {},
   "outputs": [],
   "source": [
    "# Normalize the dataset values between 0 and 1\n",
    "\n",
    "# import module which normalize the data between 0 and 1 by subtracting mean, \n",
    "# and dividing by standard deviation\n",
    "from sklearn.preprocessing import StandardScaler\n",
    "\n",
    "# Print columns and their data types\n",
    "\n",
    "df.dtypes"
   ]
  },
  {
   "cell_type": "markdown",
   "metadata": {},
   "source": [
    "### Activity 3\n",
    "**Question:** Which columns in world happiness data have non-numerical values (like strings)?\n",
    "\n",
    "**Answer:** Country and Region\n",
    "\n",
    "**Question:** Do we need to normalize columns with non-numerical values?\n",
    "\n",
    "**Answer:** No, we don't need to normalize columns with values as strings (e.g. Country).\n"
   ]
  },
  {
   "cell_type": "code",
   "execution_count": null,
   "metadata": {},
   "outputs": [],
   "source": [
    "# See the range of values of different columns for world happiness data\n",
    "df.describe()"
   ]
  },
  {
   "cell_type": "code",
   "execution_count": null,
   "metadata": {},
   "outputs": [],
   "source": [
    "\n",
    "# Select relevant numerical columns and normalize them using standard scaler\n",
    "data = df[[\"Happiness Score\", 'Economy (GDP per Capita)', 'Family',\n",
    "       'Health (Life Expectancy)', 'Freedom', 'Trust (Government Corruption)',\n",
    "       'Generosity', 'Dystopia Residual']]\n",
    "ss = StandardScaler()\n",
    "\n",
    "# Fit standard scaler to the data\n",
    "clustering_data = ss.fit_transform(data)\n",
    "\n",
    "# View normalized dataset \n",
    "clustering_data = pd.DataFrame(clustering_data, columns= data.columns)\n",
    "clustering_data.head(5)\n",
    "\n"
   ]
  },
  {
   "cell_type": "markdown",
   "metadata": {},
   "source": [
    "### Undo Normalization\n",
    "\n",
    "You can uncomment below code for last activity in this lesson if you want to see the effect of using unnormalizing dataset for clustering."
   ]
  },
  {
   "cell_type": "code",
   "execution_count": null,
   "metadata": {},
   "outputs": [],
   "source": [
    "# Remove normalization by uncommenting below code \n",
    "# clustering_data = data"
   ]
  },
  {
   "cell_type": "code",
   "execution_count": null,
   "metadata": {},
   "outputs": [],
   "source": [
    "# K-Means Clustering on World Happiness Data \n",
    "from sklearn.cluster import KMeans\n",
    "\n",
    "def doKmeans(X, nclust=2):\n",
    "    model = KMeans(nclust)\n",
    "    model.fit(X)\n",
    "    clust_labels = model.predict(X)\n",
    "    cent = model.cluster_centers_\n",
    "    return (clust_labels, cent)\n",
    "\n",
    "# Cluster the data into two groups\n",
    "clust_labels, cent = doKmeans(clustering_data, nclust = 2)\n",
    "kmeans = pd.DataFrame(clust_labels)\n",
    "clustering_data.insert((clustering_data.shape[1]),'kmeans',kmeans)"
   ]
  },
  {
   "cell_type": "code",
   "execution_count": null,
   "metadata": {},
   "outputs": [],
   "source": [
    "# Plot the clusters obtained using k means using scatter plot \n",
    "# between happiness score and economy GDP\n",
    "fig = plt.figure(figsize= (10,8))\n",
    "ax = fig.add_subplot(111)\n",
    "scatter = ax.scatter(clustering_data['Happiness Score'],clustering_data['Economy (GDP per Capita)'],\n",
    "                     c=kmeans[0],s=50)\n",
    "ax.set_title('K-Means Clustering')\n",
    "ax.set_xlabel('Happiness Score')\n",
    "ax.set_ylabel('Economy (GDP per Capita)')\n",
    "cbar = plt.colorbar(scatter)\n",
    "cbar.set_label(\"Cluster Group\")"
   ]
  },
  {
   "cell_type": "markdown",
   "metadata": {},
   "source": [
    "### Activity 4\n",
    "**Question:** Which cluster represents higher happiness score?  (Yellow or Purple)\n",
    "\n",
    "**Answers:** Purple\n",
    "\n",
    "**Question:** Which cluster represents lower GDP per Capita? 1 or 2 ((Yellow or Purple)\n",
    "\n",
    "**Answer:** Yellow\n",
    "\n"
   ]
  },
  {
   "cell_type": "code",
   "execution_count": null,
   "metadata": {},
   "outputs": [],
   "source": [
    "# Visualize clusters on geographical map\n",
    "\n",
    "import plotly.graph_objs as go\n",
    "from plotly.offline import init_notebook_mode, iplot\n",
    "wh1 = clustering_data\n",
    "if 'Country' not in wh1.columns:\n",
    "    wh1.insert(0,'Country', df.iloc[:,0])\n",
    "data = [dict(type='choropleth',\n",
    "             locations = wh1['Country'],\n",
    "             locationmode = 'country names',\n",
    "             z = wh1['kmeans'],\n",
    "             text = wh1['Country'],\n",
    "             colorbar = {'title':'Cluster Group'})]\n",
    "layout = dict(title='Clustering of Countries based on K-Means',\n",
    "              geo=dict(showframe = False,\n",
    "                       projection = {'type':'mercator'}))\n",
    "map1 = go.Figure(data = data, layout=layout)\n",
    "iplot(map1)"
   ]
  },
  {
   "cell_type": "markdown",
   "metadata": {},
   "source": [
    "### Activity 5: Change number of clusters\n",
    "Change number of clusters to three and generate clustering graphs again. \n"
   ]
  },
  {
   "cell_type": "markdown",
   "metadata": {},
   "source": [
    "### Activity 6: Data Normalization and Clustering \n",
    "Comment the cell which does data normalization and see the effect of removing data normalization on clustering results"
   ]
  }
 ],
 "metadata": {
  "kernelspec": {
   "display_name": "Python 3",
   "language": "python",
   "name": "python3"
  },
  "language_info": {
   "codemirror_mode": {
    "name": "ipython",
    "version": 3
   },
   "file_extension": ".py",
   "mimetype": "text/x-python",
   "name": "python",
   "nbconvert_exporter": "python",
   "pygments_lexer": "ipython3",
   "version": "3.8.3"
  }
 },
 "nbformat": 4,
 "nbformat_minor": 2
}
