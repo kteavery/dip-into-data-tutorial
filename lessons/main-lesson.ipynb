{
 "metadata": {
  "language_info": {
   "codemirror_mode": {
    "name": "ipython",
    "version": 3
   },
   "file_extension": ".py",
   "mimetype": "text/x-python",
   "name": "python",
   "nbconvert_exporter": "python",
   "pygments_lexer": "ipython3",
   "version": 3
  },
  "orig_nbformat": 2
 },
 "nbformat": 4,
 "nbformat_minor": 2,
 "cells": [
  {
   "source": [
    "# Dip into Data Tutorial"
   ],
   "cell_type": "markdown",
   "metadata": {}
  },
  {
   "source": [
    "## Introduction"
   ],
   "cell_type": "markdown",
   "metadata": {}
  },
  {
   "source": [
    "*Machine learning* \"is the study of computer algorithms that allow computer programs to automatically improve through experience\" [\\[1\\]](#references).  \n",
    "\n",
    "TODO: define supervised and unsupervised learning"
   ],
   "cell_type": "markdown",
   "metadata": {}
  },
  {
   "source": [
    "## Classification"
   ],
   "cell_type": "markdown",
   "metadata": {}
  },
  {
   "source": [
    "*Classification* is the process of categorizing data into predefined classes. \n",
    "\n"
   ],
   "cell_type": "markdown",
   "metadata": {}
  },
  {
   "source": [
    "*Support vector machines* are ..."
   ],
   "cell_type": "markdown",
   "metadata": {}
  },
  {
   "source": [
    "<details>\n",
    "  <summary>Why the name \"support vector machine\"?</summary>\n",
    "  TODO\n",
    "</details>"
   ],
   "cell_type": "markdown",
   "metadata": {}
  },
  {
   "cell_type": "code",
   "execution_count": null,
   "metadata": {},
   "outputs": [],
   "source": [
    "TODO: insert code example of classification"
   ]
  },
  {
   "source": [
    "## Clustering"
   ],
   "cell_type": "markdown",
   "metadata": {}
  },
  {
   "source": [
    "*Clustering* categorizes data into groups based on how similar the data is to one another. Unlike classification, the groups are not predefined. \n",
    "\n"
   ],
   "cell_type": "markdown",
   "metadata": {}
  },
  {
   "cell_type": "code",
   "execution_count": null,
   "metadata": {},
   "outputs": [],
   "source": [
    "TODO: insert code example of clustering "
   ]
  },
  {
   "source": [
    "**Question:** What is the difference between clustering and classification? "
   ],
   "cell_type": "markdown",
   "metadata": {}
  },
  {
   "source": [
    "**Question:** What is the difference between supervised and unsupervised learning? "
   ],
   "cell_type": "markdown",
   "metadata": {}
  },
  {
   "source": [
    "## Regression"
   ],
   "cell_type": "markdown",
   "metadata": {}
  },
  {
   "source": [
    "*Regression* is the process of using data (X) to predict some continuous dependent variable Y. The difference between classification and regression is that in regression, Y is continuous, while in classification, Y is discrete. "
   ],
   "cell_type": "markdown",
   "metadata": {}
  },
  {
   "cell_type": "code",
   "execution_count": null,
   "metadata": {},
   "outputs": [],
   "source": [
    "TODO: insert code example of regression"
   ]
  },
  {
   "cell_type": "code",
   "execution_count": null,
   "metadata": {},
   "outputs": [],
   "source": []
  },
  {
   "source": [
    "## Further Reading"
   ],
   "cell_type": "markdown",
   "metadata": {}
  },
  {
   "source": [
    "TODO: insert further optional reading"
   ],
   "cell_type": "markdown",
   "metadata": {}
  },
  {
   "source": [
    "## References"
   ],
   "cell_type": "markdown",
   "metadata": {}
  },
  {
   "source": [
    "\\[1\\] [Machine Learning, Tom Mitchell, McGraw Hill, 1997.](http://www.cs.cmu.edu/afs/cs.cmu.edu/user/mitchell/ftp/mlbook.html)"
   ],
   "cell_type": "markdown",
   "metadata": {}
  }
 ]
}